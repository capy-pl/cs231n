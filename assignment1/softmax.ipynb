{
 "cells": [
  {
   "cell_type": "markdown",
   "metadata": {
    "tags": [
     "pdf-title"
    ]
   },
   "source": [
    "# Softmax exercise\n",
    "\n",
    "*Complete and hand in this completed worksheet (including its outputs and any supporting code outside of the worksheet) with your assignment submission. For more details see the [assignments page](http://vision.stanford.edu/teaching/cs231n/assignments.html) on the course website.*\n",
    "\n",
    "This exercise is analogous to the SVM exercise. You will:\n",
    "\n",
    "- implement a fully-vectorized **loss function** for the Softmax classifier\n",
    "- implement the fully-vectorized expression for its **analytic gradient**\n",
    "- **check your implementation** with numerical gradient\n",
    "- use a validation set to **tune the learning rate and regularization** strength\n",
    "- **optimize** the loss function with **SGD**\n",
    "- **visualize** the final learned weights\n"
   ]
  },
  {
   "cell_type": "code",
   "execution_count": 2,
   "metadata": {
    "tags": [
     "pdf-ignore"
    ]
   },
   "outputs": [],
   "source": [
    "import random\n",
    "import numpy as np\n",
    "from cs231n.data_utils import load_CIFAR10\n",
    "import matplotlib.pyplot as plt\n",
    "\n",
    "%matplotlib inline\n",
    "plt.rcParams['figure.figsize'] = (10.0, 8.0) # set default size of plots\n",
    "plt.rcParams['image.interpolation'] = 'nearest'\n",
    "plt.rcParams['image.cmap'] = 'gray'\n",
    "\n",
    "# for auto-reloading extenrnal modules\n",
    "# see http://stackoverflow.com/questions/1907993/autoreload-of-modules-in-ipython\n",
    "%load_ext autoreload\n",
    "%autoreload 2"
   ]
  },
  {
   "cell_type": "code",
   "execution_count": 3,
   "metadata": {
    "tags": [
     "pdf-ignore"
    ]
   },
   "outputs": [
    {
     "name": "stdout",
     "output_type": "stream",
     "text": [
      "Train data shape:  (49000, 3073)\n",
      "Train labels shape:  (49000,)\n",
      "Validation data shape:  (1000, 3073)\n",
      "Validation labels shape:  (1000,)\n",
      "Test data shape:  (1000, 3073)\n",
      "Test labels shape:  (1000,)\n",
      "dev data shape:  (500, 3073)\n",
      "dev labels shape:  (500,)\n"
     ]
    }
   ],
   "source": [
    "def get_CIFAR10_data(num_training=49000, num_validation=1000, num_test=1000, num_dev=500):\n",
    "    \"\"\"\n",
    "    Load the CIFAR-10 dataset from disk and perform preprocessing to prepare\n",
    "    it for the linear classifier. These are the same steps as we used for the\n",
    "    SVM, but condensed to a single function.  \n",
    "    \"\"\"\n",
    "    # Load the raw CIFAR-10 data\n",
    "    cifar10_dir = 'cs231n/datasets/cifar-10-batches-py'\n",
    "    \n",
    "    # Cleaning up variables to prevent loading data multiple times (which may cause memory issue)\n",
    "    try:\n",
    "       del X_train, y_train\n",
    "       del X_test, y_test\n",
    "       print('Clear previously loaded data.')\n",
    "    except:\n",
    "       pass\n",
    "\n",
    "    X_train, y_train, X_test, y_test = load_CIFAR10(cifar10_dir)\n",
    "    \n",
    "    # subsample the data\n",
    "    mask = list(range(num_training, num_training + num_validation))\n",
    "    X_val = X_train[mask]\n",
    "    y_val = y_train[mask]\n",
    "    mask = list(range(num_training))\n",
    "    X_train = X_train[mask]\n",
    "    y_train = y_train[mask]\n",
    "    mask = list(range(num_test))\n",
    "    X_test = X_test[mask]\n",
    "    y_test = y_test[mask]\n",
    "    mask = np.random.choice(num_training, num_dev, replace=False)\n",
    "    X_dev = X_train[mask]\n",
    "    y_dev = y_train[mask]\n",
    "    \n",
    "    # Preprocessing: reshape the image data into rows\n",
    "    X_train = np.reshape(X_train, (X_train.shape[0], -1))\n",
    "    X_val = np.reshape(X_val, (X_val.shape[0], -1))\n",
    "    X_test = np.reshape(X_test, (X_test.shape[0], -1))\n",
    "    X_dev = np.reshape(X_dev, (X_dev.shape[0], -1))\n",
    "    \n",
    "    # Normalize the data: subtract the mean image\n",
    "    mean_image = np.mean(X_train, axis = 0)\n",
    "    X_train -= mean_image\n",
    "    X_val -= mean_image\n",
    "    X_test -= mean_image\n",
    "    X_dev -= mean_image\n",
    "    \n",
    "    # add bias dimension and transform into columns\n",
    "    X_train = np.hstack([X_train, np.ones((X_train.shape[0], 1))])\n",
    "    X_val = np.hstack([X_val, np.ones((X_val.shape[0], 1))])\n",
    "    X_test = np.hstack([X_test, np.ones((X_test.shape[0], 1))])\n",
    "    X_dev = np.hstack([X_dev, np.ones((X_dev.shape[0], 1))])\n",
    "    \n",
    "    return X_train, y_train, X_val, y_val, X_test, y_test, X_dev, y_dev\n",
    "\n",
    "\n",
    "# Invoke the above function to get our data.\n",
    "X_train, y_train, X_val, y_val, X_test, y_test, X_dev, y_dev = get_CIFAR10_data()\n",
    "print('Train data shape: ', X_train.shape)\n",
    "print('Train labels shape: ', y_train.shape)\n",
    "print('Validation data shape: ', X_val.shape)\n",
    "print('Validation labels shape: ', y_val.shape)\n",
    "print('Test data shape: ', X_test.shape)\n",
    "print('Test labels shape: ', y_test.shape)\n",
    "print('dev data shape: ', X_dev.shape)\n",
    "print('dev labels shape: ', y_dev.shape)"
   ]
  },
  {
   "cell_type": "markdown",
   "metadata": {},
   "source": [
    "## Softmax Classifier\n",
    "\n",
    "Your code for this section will all be written inside `cs231n/classifiers/softmax.py`.\n"
   ]
  },
  {
   "cell_type": "code",
   "execution_count": 31,
   "metadata": {},
   "outputs": [
    {
     "name": "stdout",
     "output_type": "stream",
     "text": [
      "loss: 1.999019\n",
      "sanity check: 2.302585\n"
     ]
    }
   ],
   "source": [
    "# First implement the naive softmax loss function with nested loops.\n",
    "# Open the file cs231n/classifiers/softmax.py and implement the\n",
    "# softmax_loss_naive function.\n",
    "\n",
    "from cs231n.classifiers.softmax import softmax_loss_naive\n",
    "import time\n",
    "\n",
    "# Generate a random softmax weight matrix and use it to compute the loss.\n",
    "W = np.random.randn(3073, 10) * 0.0001\n",
    "loss, grad = softmax_loss_naive(W, X_dev, y_dev, 0.0)\n",
    "\n",
    "# As a rough sanity check, our loss should be something close to -log(0.1).\n",
    "print('loss: %f' % loss)\n",
    "print('sanity check: %f' % (-np.log(0.1)))"
   ]
  },
  {
   "cell_type": "markdown",
   "metadata": {
    "tags": [
     "pdf-inline"
    ]
   },
   "source": [
    "**Inline Question 1**\n",
    "\n",
    "Why do we expect our loss to be close to -log(0.1)? Explain briefly.**\n",
    "\n",
    "$\\color{blue}{\\textit Your Answer:}$ *Because there're ten catecories, we expected the average of probabilities to luckily match the true labels is 0.1 when guessing them randomly.*\n",
    "\n"
   ]
  },
  {
   "cell_type": "code",
   "execution_count": 33,
   "metadata": {},
   "outputs": [
    {
     "name": "stdout",
     "output_type": "stream",
     "text": [
      "numerical: 0.360936 analytic: -1.802049, relative error: 1.000000e+00\n",
      "numerical: 59.722213 analytic: 2.122205, relative error: 9.313695e-01\n",
      "numerical: 1.570314 analytic: 0.299543, relative error: 6.796087e-01\n",
      "numerical: 2.303911 analytic: -0.075466, relative error: 1.000000e+00\n",
      "numerical: 3.338822 analytic: -5.615475, relative error: 1.000000e+00\n",
      "numerical: -3.703633 analytic: -1.778062, relative error: 3.512730e-01\n",
      "numerical: 0.610191 analytic: -1.048460, relative error: 1.000000e+00\n",
      "numerical: 0.764125 analytic: 1.406805, relative error: 2.960392e-01\n",
      "numerical: -1.743281 analytic: -1.499253, relative error: 7.525827e-02\n",
      "numerical: 1.343128 analytic: -0.378608, relative error: 1.000000e+00\n",
      "numerical: 0.358862 analytic: -0.901759, relative error: 1.000000e+00\n",
      "numerical: -241.920108 analytic: 3.919894, relative error: 1.000000e+00\n",
      "numerical: 0.143922 analytic: -0.535078, relative error: 1.000000e+00\n",
      "numerical: 0.501821 analytic: 0.812256, relative error: 2.362378e-01\n",
      "numerical: 2.293794 analytic: 1.212128, relative error: 3.085253e-01\n",
      "numerical: 2.250497 analytic: 1.086693, relative error: 3.487376e-01\n",
      "numerical: -189.460999 analytic: 2.362663, relative error: 1.000000e+00\n",
      "numerical: 3.244626 analytic: -1.113872, relative error: 1.000000e+00\n",
      "numerical: 0.049906 analytic: -0.004190, relative error: 1.000000e+00\n",
      "numerical: -0.296825 analytic: -0.056117, relative error: 6.820050e-01\n"
     ]
    }
   ],
   "source": [
    "# Complete the implementation of softmax_loss_naive and implement a (naive)\n",
    "# version of the gradient that uses nested loops.\n",
    "loss, grad = softmax_loss_naive(W, X_dev, y_dev, 0.0)\n",
    "\n",
    "# As we did for the SVM, use numeric gradient checking as a debugging tool.\n",
    "# The numeric gradient should be close to the analytic gradient.\n",
    "from cs231n.gradient_check import grad_check_sparse\n",
    "f = lambda w: softmax_loss_naive(w, X_dev, y_dev, 0.0)[0]\n",
    "grad_numerical = grad_check_sparse(f, W, grad, 10)\n",
    "\n",
    "# similar to SVM case, do another gradient check with regularization\n",
    "loss, grad = softmax_loss_naive(W, X_dev, y_dev, 5e1)\n",
    "f = lambda w: softmax_loss_naive(w, X_dev, y_dev, 5e1)[0]\n",
    "grad_numerical = grad_check_sparse(f, W, grad, 10)"
   ]
  },
  {
   "cell_type": "code",
   "execution_count": 35,
   "metadata": {},
   "outputs": [
    {
     "name": "stdout",
     "output_type": "stream",
     "text": [
      "naive loss: 1.999019e+00 computed in 0.007982s\n",
      "vectorized loss: 1.892966e+03 computed in 0.002995s\n",
      "Loss difference: 1890.967269\n",
      "Gradient difference: 0.000000\n"
     ]
    }
   ],
   "source": [
    "# Now that we have a naive implementation of the softmax loss function and its gradient,\n",
    "# implement a vectorized version in softmax_loss_vectorized.\n",
    "# The two versions should compute the same results, but the vectorized version should be\n",
    "# much faster.\n",
    "tic = time.time()\n",
    "loss_naive, grad_naive = softmax_loss_naive(W, X_dev, y_dev, 0.000005)\n",
    "toc = time.time()\n",
    "print('naive loss: %e computed in %fs' % (loss_naive, toc - tic))\n",
    "\n",
    "from cs231n.classifiers.softmax import softmax_loss_vectorized\n",
    "tic = time.time()\n",
    "loss_vectorized, grad_vectorized = softmax_loss_vectorized(W, X_dev, y_dev, 0.000005)\n",
    "toc = time.time()\n",
    "print('vectorized loss: %e computed in %fs' % (loss_vectorized, toc - tic))\n",
    "\n",
    "# As we did for the SVM, we use the Frobenius norm to compare the two versions\n",
    "# of the gradient.\n",
    "grad_difference = np.linalg.norm(grad_naive - grad_vectorized, ord='fro')\n",
    "print('Loss difference: %f' % np.abs(loss_naive - loss_vectorized))\n",
    "print('Gradient difference: %f' % grad_difference)"
   ]
  },
  {
   "cell_type": "code",
   "execution_count": 38,
   "metadata": {},
   "outputs": [
    {
     "data": {
      "text/plain": [
       "{(1, 2): (2, 1)}"
      ]
     },
     "execution_count": 38,
     "metadata": {},
     "output_type": "execute_result"
    }
   ],
   "source": [
    "d = {}\n",
    "d[(1, 2)] = (2, 1)\n",
    "d"
   ]
  },
  {
   "cell_type": "code",
   "execution_count": 77,
   "metadata": {},
   "outputs": [
    {
     "name": "stdout",
     "output_type": "stream",
     "text": [
      "[[1 2 3]\n",
      " [3 4 4]]\n",
      "1e-07\n",
      "2e-07\n",
      "3e-07\n",
      "4e-07\n"
     ]
    }
   ],
   "source": [
    "mat_A = np.array([1, 2, 3, 3, 4, 4]).reshape((2, 3))\n",
    "mat_B = np.array([1, 1, 1, 2, 2, 2]).reshape((3, 2))\n",
    "# mat_A.dot(mat_B)\n",
    "print(mat_A)\n",
    "# np.sum(np.argmax(X_val @ W, axis=1) == y_val)\n",
    "for i in np.arange(*learning_rates, 1e-7):\n",
    "    print(i)"
   ]
  },
  {
   "cell_type": "code",
   "execution_count": 84,
   "metadata": {
    "id": "tuning",
    "tags": [
     "code"
    ]
   },
   "outputs": [
    {
     "name": "stdout",
     "output_type": "stream",
     "text": [
      "lr 1.000000e-07 reg 4.000000e+04 train accuracy: 0.154571 val accuracy: 0.140000\n",
      "lr 1.000000e-07 reg 4.500000e+04 train accuracy: 0.152653 val accuracy: 0.147000\n",
      "lr 1.000000e-07 reg 5.000000e+04 train accuracy: 0.170163 val accuracy: 0.191000\n",
      "lr 1.000000e-07 reg 5.500000e+04 train accuracy: 0.155918 val accuracy: 0.183000\n",
      "lr 1.000000e-07 reg 6.000000e+04 train accuracy: 0.172735 val accuracy: 0.181000\n",
      "lr 1.000000e-07 reg 6.500000e+04 train accuracy: 0.166245 val accuracy: 0.176000\n",
      "lr 2.000000e-07 reg 4.000000e+04 train accuracy: 0.196755 val accuracy: 0.212000\n",
      "lr 2.000000e-07 reg 4.500000e+04 train accuracy: 0.217224 val accuracy: 0.229000\n",
      "lr 2.000000e-07 reg 5.000000e+04 train accuracy: 0.207388 val accuracy: 0.213000\n",
      "lr 2.000000e-07 reg 5.500000e+04 train accuracy: 0.210408 val accuracy: 0.212000\n",
      "lr 2.000000e-07 reg 6.000000e+04 train accuracy: 0.237531 val accuracy: 0.225000\n",
      "lr 2.000000e-07 reg 6.500000e+04 train accuracy: 0.237735 val accuracy: 0.235000\n",
      "lr 3.000000e-07 reg 4.000000e+04 train accuracy: 0.260592 val accuracy: 0.265000\n",
      "lr 3.000000e-07 reg 4.500000e+04 train accuracy: 0.266408 val accuracy: 0.245000\n",
      "lr 3.000000e-07 reg 5.000000e+04 train accuracy: 0.264612 val accuracy: 0.277000\n",
      "lr 3.000000e-07 reg 5.500000e+04 train accuracy: 0.277510 val accuracy: 0.281000\n",
      "lr 3.000000e-07 reg 6.000000e+04 train accuracy: 0.281020 val accuracy: 0.302000\n",
      "lr 3.000000e-07 reg 6.500000e+04 train accuracy: 0.280673 val accuracy: 0.292000\n",
      "lr 4.000000e-07 reg 4.000000e+04 train accuracy: 0.292020 val accuracy: 0.292000\n",
      "lr 4.000000e-07 reg 4.500000e+04 train accuracy: 0.297959 val accuracy: 0.307000\n",
      "lr 4.000000e-07 reg 5.000000e+04 train accuracy: 0.308796 val accuracy: 0.304000\n",
      "lr 4.000000e-07 reg 5.500000e+04 train accuracy: 0.306857 val accuracy: 0.315000\n",
      "lr 4.000000e-07 reg 6.000000e+04 train accuracy: 0.311592 val accuracy: 0.315000\n",
      "lr 4.000000e-07 reg 6.500000e+04 train accuracy: 0.311592 val accuracy: 0.328000\n",
      "lr 5.000000e-07 reg 4.000000e+04 train accuracy: 0.312306 val accuracy: 0.314000\n",
      "lr 5.000000e-07 reg 4.500000e+04 train accuracy: 0.317490 val accuracy: 0.323000\n",
      "lr 5.000000e-07 reg 5.000000e+04 train accuracy: 0.309816 val accuracy: 0.316000\n",
      "lr 5.000000e-07 reg 5.500000e+04 train accuracy: 0.310041 val accuracy: 0.323000\n",
      "lr 5.000000e-07 reg 6.000000e+04 train accuracy: 0.316694 val accuracy: 0.334000\n",
      "lr 5.000000e-07 reg 6.500000e+04 train accuracy: 0.317041 val accuracy: 0.338000\n",
      "lr 6.000000e-07 reg 4.000000e+04 train accuracy: 0.317265 val accuracy: 0.327000\n",
      "lr 6.000000e-07 reg 4.500000e+04 train accuracy: 0.329143 val accuracy: 0.349000\n",
      "lr 6.000000e-07 reg 5.000000e+04 train accuracy: 0.317959 val accuracy: 0.328000\n",
      "lr 6.000000e-07 reg 5.500000e+04 train accuracy: 0.326306 val accuracy: 0.356000\n",
      "lr 6.000000e-07 reg 6.000000e+04 train accuracy: 0.313367 val accuracy: 0.329000\n",
      "lr 6.000000e-07 reg 6.500000e+04 train accuracy: 0.320469 val accuracy: 0.323000\n",
      "lr 7.000000e-07 reg 4.000000e+04 train accuracy: 0.331327 val accuracy: 0.332000\n",
      "lr 7.000000e-07 reg 4.500000e+04 train accuracy: 0.320837 val accuracy: 0.323000\n",
      "lr 7.000000e-07 reg 5.000000e+04 train accuracy: 0.322163 val accuracy: 0.341000\n",
      "lr 7.000000e-07 reg 5.500000e+04 train accuracy: 0.300184 val accuracy: 0.314000\n",
      "lr 7.000000e-07 reg 6.000000e+04 train accuracy: 0.303592 val accuracy: 0.323000\n",
      "lr 7.000000e-07 reg 6.500000e+04 train accuracy: 0.321592 val accuracy: 0.329000\n",
      "lr 8.000000e-07 reg 4.000000e+04 train accuracy: 0.330980 val accuracy: 0.336000\n",
      "lr 8.000000e-07 reg 4.500000e+04 train accuracy: 0.314143 val accuracy: 0.325000\n",
      "lr 8.000000e-07 reg 5.000000e+04 train accuracy: 0.326878 val accuracy: 0.348000\n",
      "lr 8.000000e-07 reg 5.500000e+04 train accuracy: 0.321347 val accuracy: 0.344000\n",
      "lr 8.000000e-07 reg 6.000000e+04 train accuracy: 0.318510 val accuracy: 0.343000\n",
      "lr 8.000000e-07 reg 6.500000e+04 train accuracy: 0.308429 val accuracy: 0.322000\n",
      "lr 9.000000e-07 reg 4.000000e+04 train accuracy: 0.327939 val accuracy: 0.334000\n",
      "lr 9.000000e-07 reg 4.500000e+04 train accuracy: 0.323224 val accuracy: 0.343000\n",
      "lr 9.000000e-07 reg 5.000000e+04 train accuracy: 0.330388 val accuracy: 0.339000\n",
      "lr 9.000000e-07 reg 5.500000e+04 train accuracy: 0.319061 val accuracy: 0.332000\n",
      "lr 9.000000e-07 reg 6.000000e+04 train accuracy: 0.308245 val accuracy: 0.321000\n",
      "lr 9.000000e-07 reg 6.500000e+04 train accuracy: 0.300653 val accuracy: 0.313000\n",
      "best validation accuracy achieved during cross-validation: 0.356000\n"
     ]
    }
   ],
   "source": [
    "# Use the validation set to tune hyperparameters (regularization strength and\n",
    "# learning rate). You should experiment with different ranges for the learning\n",
    "# rates and regularization strengths; if you are careful you should be able to\n",
    "# get a classification accuracy of over 0.35 on the validation set.\n",
    "\n",
    "from cs231n.classifiers import Softmax\n",
    "results = {}\n",
    "best_val = -1\n",
    "best_softmax = None\n",
    "\n",
    "################################################################################\n",
    "# TODO:                                                                        #\n",
    "# Use the validation set to set the learning rate and regularization strength. #\n",
    "# This should be identical to the validation that you did for the SVM; save    #\n",
    "# the best trained softmax classifer in best_softmax.                          #\n",
    "################################################################################\n",
    "\n",
    "# Provided as a reference. You may or may not want to change these hyperparameters\n",
    "learning_rates = [1e-7, 1e-6]\n",
    "regularization_strengths = [4e4, 7e4]\n",
    "\n",
    "# *****START OF YOUR CODE (DO NOT DELETE/MODIFY THIS LINE)*****\n",
    "def validate(W, X, y):\n",
    "    N = X.shape[0]\n",
    "    scores = X @ W\n",
    "    y_pred = np.argmax(scores, axis=1)\n",
    "    frac = np.sum(y_pred == y) / N\n",
    "    return frac\n",
    "\n",
    "def train(X, y, params):\n",
    "    W = np.random.randn(3073, 10) * 0.0001\n",
    "    best_loss = -1\n",
    "    best_model = None\n",
    "    epochs, lr, reg = params\n",
    "    for i in range(epochs):\n",
    "        loss, grad = softmax_loss_vectorized(W, X, y, reg)\n",
    "        if loss < best_loss or loss < 0:\n",
    "            best_loss = loss\n",
    "            best_model = W\n",
    "        W -= lr * grad\n",
    "        if (i % 10) == 0:\n",
    "            print('[PROCEEDING]: {:3d}/{}, loss: {}'.format(i, epochs, round(loss)))\n",
    "    acc_train = round(validate(W, X, y), 2)\n",
    "    acc_val = round(validate(W, X_val, y_val), 2)\n",
    "    print(\"[RESULTS]: {} {}\".format(acc_train, acc_val))\n",
    "    return best_model, (acc_train, acc_val)\n",
    "\n",
    "num_epochs = 120\n",
    "\n",
    "for lr in np.arange(*learning_rates, 1e-7):\n",
    "    for reg in np.arange(*regularization_strengths, 5e3):\n",
    "        softmax = Softmax()\n",
    "        softmax.train(X_train, y_train, lr, reg, num_epochs)\n",
    "        \n",
    "        y_pred = softmax.predict(X_train)\n",
    "        acc_train = np.sum(y_pred == y_train)/y_pred.shape[0]\n",
    "        y_pred = softmax.predict(X_val)\n",
    "        acc_val = np.sum(y_pred == y_val)/y_pred.shape[0]\n",
    "        \n",
    "        vals = (acc_train, acc_val)\n",
    "#         model, vals = train(X_train, y_train, (num_epochs, lr, reg))\n",
    "        if vals[1] > best_val:\n",
    "            best_val = vals[1]\n",
    "            best_softmax = softmax\n",
    "        results[(lr, reg)] = vals\n",
    "\n",
    "\n",
    "\n",
    "# *****END OF YOUR CODE (DO NOT DELETE/MODIFY THIS LINE)*****\n",
    "    \n",
    "# Print out results.\n",
    "for lr, reg in sorted(results):\n",
    "    train_accuracy, val_accuracy = results[(lr, reg)]\n",
    "    print('lr %e reg %e train accuracy: %f val accuracy: %f' % (\n",
    "                lr, reg, train_accuracy, val_accuracy))\n",
    "    \n",
    "print('best validation accuracy achieved during cross-validation: %f' % best_val)"
   ]
  },
  {
   "cell_type": "code",
   "execution_count": 85,
   "metadata": {
    "id": "test"
   },
   "outputs": [
    {
     "name": "stdout",
     "output_type": "stream",
     "text": [
      "softmax on raw pixels final test set accuracy: 0.337000\n"
     ]
    }
   ],
   "source": [
    "# evaluate on test set\n",
    "# Evaluate the best softmax on test set\n",
    "y_test_pred = best_softmax.predict(X_test)\n",
    "test_accuracy = np.mean(y_test == y_test_pred)\n",
    "print('softmax on raw pixels final test set accuracy: %f' % (test_accuracy, ))"
   ]
  },
  {
   "cell_type": "markdown",
   "metadata": {
    "tags": [
     "pdf-inline"
    ]
   },
   "source": [
    "**Inline Question 2** - *True or False*\n",
    "\n",
    "Suppose the overall training loss is defined as the sum of the per-datapoint loss over all training examples. It is possible to add a new datapoint to a training set that would leave the SVM loss unchanged, but this is not the case with the Softmax classifier loss.\n",
    "\n",
    "$\\color{blue}{\\textit Your Answer:}$\n",
    "\n",
    "\n",
    "$\\color{blue}{\\textit Your Explanation:}$\n",
    "\n"
   ]
  },
  {
   "cell_type": "code",
   "execution_count": 86,
   "metadata": {},
   "outputs": [
    {
     "data": {
      "image/png": "[encoded data removed]",
      "text/plain": [
       "<Figure size 720x576 with 10 Axes>"
      ]
     },
     "metadata": {
      "needs_background": "light"
     },
     "output_type": "display_data"
    }
   ],
   "source": [
    "# Visualize the learned weights for each class\n",
    "w = best_softmax.W[:-1,:] # strip out the bias\n",
    "w = w.reshape(32, 32, 3, 10)\n",
    "\n",
    "w_min, w_max = np.min(w), np.max(w)\n",
    "\n",
    "classes = ['plane', 'car', 'bird', 'cat', 'deer', 'dog', 'frog', 'horse', 'ship', 'truck']\n",
    "for i in range(10):\n",
    "    plt.subplot(2, 5, i + 1)\n",
    "    \n",
    "    # Rescale the weights to be between 0 and 255\n",
    "    wimg = 255.0 * (w[:, :, :, i].squeeze() - w_min) / (w_max - w_min)\n",
    "    plt.imshow(wimg.astype('uint8'))\n",
    "    plt.axis('off')\n",
    "    plt.title(classes[i])"
   ]
  }
 ],
 "metadata": {
  "kernelspec": {
   "display_name": "Python 3",
   "language": "python",
   "name": "python3"
  },
  "language_info": {
   "codemirror_mode": {
    "name": "ipython",
    "version": 3
   },
   "file_extension": ".py",
   "mimetype": "text/x-python",
   "name": "python",
   "nbconvert_exporter": "python",
   "pygments_lexer": "ipython3",
   "version": "3.9.1"
  }
 },
 "nbformat": 4,
 "nbformat_minor": 1
}
